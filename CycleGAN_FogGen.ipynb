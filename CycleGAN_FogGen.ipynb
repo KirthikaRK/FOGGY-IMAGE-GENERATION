{
  "cells": [
    {
      "cell_type": "code",
      "execution_count": null,
      "metadata": {
        "execution": {
          "iopub.execute_input": "2022-03-16T13:53:31.516722Z",
          "iopub.status.busy": "2022-03-16T13:53:31.516174Z",
          "iopub.status.idle": "2022-03-16T13:53:33.116422Z",
          "shell.execute_reply": "2022-03-16T13:53:33.115657Z",
          "shell.execute_reply.started": "2022-03-16T13:53:31.516622Z"
        },
        "id": "jcOwebqPwKux",
        "trusted": true
      },
      "outputs": [],
      "source": [
        "import os\n",
        "import numpy as np\n",
        "import math\n",
        "import itertools\n",
        "import scipy\n",
        "import sys\n",
        "import time\n",
        "import datetime\n",
        "\n",
        "import torchvision.transforms as transforms\n",
        "from torchvision.utils import save_image\n",
        "\n",
        "from torch.utils.data import DataLoader\n",
        "from torchvision import datasets\n",
        "from torch.autograd import Variable\n",
        "import torch.autograd as autograd\n",
        "from torchvision.utils import make_grid\n",
        "\n",
        "import torch.nn as nn\n",
        "import torch.nn.functional as F\n",
        "import torch\n",
        "\n",
        "import matplotlib.pyplot as plt\n",
        "from matplotlib.pyplot import figure\n",
        "from IPython.display import clear_output\n",
        "\n",
        "import glob\n",
        "import random\n",
        "from torch.utils.data import Dataset\n",
        "from PIL import Image"
      ]
    },
    {
      "cell_type": "code",
      "execution_count": null,
      "metadata": {
        "colab": {
          "base_uri": "https://localhost:8080/"
        },
        "execution": {
          "iopub.execute_input": "2022-03-16T13:53:33.119588Z",
          "iopub.status.busy": "2022-03-16T13:53:33.119071Z",
          "iopub.status.idle": "2022-03-16T13:53:33.987493Z",
          "shell.execute_reply": "2022-03-16T13:53:33.986807Z",
          "shell.execute_reply.started": "2022-03-16T13:53:33.119550Z"
        },
        "id": "Df4-4dT9X40U",
        "outputId": "52efaea2-af84-4f91-e0a4-86669366e7cb",
        "trusted": true
      },
      "outputs": [
        {
          "output_type": "stream",
          "name": "stdout",
          "text": [
            "Mounted at /content/drive\n"
          ]
        }
      ],
      "source": [
        "from google.colab import drive\n",
        "drive.mount('/content/drive')"
      ]
    },
    {
      "cell_type": "code",
      "execution_count": null,
      "metadata": {
        "colab": {
          "base_uri": "https://localhost:8080/"
        },
        "id": "9NUXnyUyKlx5",
        "outputId": "b46ef823-88c8-44af-8a32-53cccf222a6d"
      },
      "outputs": [
        {
          "output_type": "stream",
          "name": "stdout",
          "text": [
            "Sun Sep  8 16:45:57 2024       \n",
            "+---------------------------------------------------------------------------------------+\n",
            "| NVIDIA-SMI 535.104.05             Driver Version: 535.104.05   CUDA Version: 12.2     |\n",
            "|-----------------------------------------+----------------------+----------------------+\n",
            "| GPU  Name                 Persistence-M | Bus-Id        Disp.A | Volatile Uncorr. ECC |\n",
            "| Fan  Temp   Perf          Pwr:Usage/Cap |         Memory-Usage | GPU-Util  Compute M. |\n",
            "|                                         |                      |               MIG M. |\n",
            "|=========================================+======================+======================|\n",
            "|   0  Tesla T4                       Off | 00000000:00:04.0 Off |                    0 |\n",
            "| N/A   53C    P8              12W /  70W |      0MiB / 15360MiB |      0%      Default |\n",
            "|                                         |                      |                  N/A |\n",
            "+-----------------------------------------+----------------------+----------------------+\n",
            "                                                                                         \n",
            "+---------------------------------------------------------------------------------------+\n",
            "| Processes:                                                                            |\n",
            "|  GPU   GI   CI        PID   Type   Process name                            GPU Memory |\n",
            "|        ID   ID                                                             Usage      |\n",
            "|=======================================================================================|\n",
            "|  No running processes found                                                           |\n",
            "+---------------------------------------------------------------------------------------+\n"
          ]
        }
      ],
      "source": [
        "!nvidia-smi"
      ]
    },
    {
      "cell_type": "code",
      "execution_count": null,
      "metadata": {
        "execution": {
          "iopub.execute_input": "2022-03-16T13:53:33.989252Z",
          "iopub.status.busy": "2022-03-16T13:53:33.988847Z",
          "iopub.status.idle": "2022-03-16T13:53:33.999219Z",
          "shell.execute_reply": "2022-03-16T13:53:33.998273Z",
          "shell.execute_reply.started": "2022-03-16T13:53:33.989215Z"
        },
        "id": "rVBTY_4wwfbq",
        "trusted": true
      },
      "outputs": [],
      "source": [
        "# HYPERPARAMETERS\n",
        "class Hyperparameters(object):\n",
        "  def __init__(self, **kwargs):\n",
        "    self.__dict__.update(kwargs)\n",
        "\n",
        "hp = Hyperparameters(\n",
        "    epoch=0,\n",
        "    n_epochs=200,\n",
        "    dataset_train_mode=\"train\",\n",
        "    dataset_test_mode=\"test\",\n",
        "    batch_size=4,\n",
        "    lr=.0002,\n",
        "    decay_start_epoch=100,\n",
        "    b1=.5,\n",
        "    b2=0.999,\n",
        "    n_cpu=8,\n",
        "    img_size=128,\n",
        "    channels=3,\n",
        "    n_critic=5,\n",
        "    sample_interval=100,\n",
        "    num_residual_blocks=19,\n",
        "    lambda_cyc=10.0,\n",
        "    lambda_id=5.0)\n",
        "\n",
        "# Root Path for Google Drive\n",
        "root_path = '/content/drive/MyDrive/CycleGAN_FogGen/Colab Notebooks/data'\n"
      ]
    },
    {
      "cell_type": "code",
      "execution_count": null,
      "metadata": {
        "execution": {
          "iopub.execute_input": "2022-03-16T13:53:34.004777Z",
          "iopub.status.busy": "2022-03-16T13:53:34.004129Z",
          "iopub.status.idle": "2022-03-16T13:53:34.018965Z",
          "shell.execute_reply": "2022-03-16T13:53:34.018189Z",
          "shell.execute_reply.started": "2022-03-16T13:53:34.004710Z"
        },
        "id": "yZaSsdJa_xqH",
        "trusted": true
      },
      "outputs": [],
      "source": [
        "def convert_to_rgb(image):\n",
        "    rgb_image = Image.new(\"RGB\", image.size)\n",
        "    rgb_image.paste(image)\n",
        "    return rgb_image\n",
        "\n",
        "\n",
        "class ImageDataset(Dataset):\n",
        "    def __init__(self, root, transforms_=None, unaligned=False, mode=\"train\"):\n",
        "        self.transform = transforms.Compose(transforms_)\n",
        "        self.unaligned = unaligned\n",
        "\n",
        "       #print(f\"Looking for images in: {os.path.join(root, f'{mode}A')}\")\n",
        "       #print(f\"Looking for images in: {os.path.join(root, f'{mode}B')}\")\n",
        "\n",
        "        self.files_A = sorted(glob.glob(os.path.join(root, \"%sA\" % mode) + \"/*.*\"))\n",
        "        self.files_B = sorted(glob.glob(os.path.join(root, \"%sB\" % mode) + \"/*.*\"))\n",
        "        # print(\"self.files_B \", self.files_B)\n",
        "\n",
        "        #print(f\"Found {len(self.files_A)} images in {mode}A\")\n",
        "        #print(f\"Found {len(self.files_B)} images in {mode}B\")\n",
        "\n",
        "    def __getitem__(self, index):\n",
        "        image_A = Image.open(self.files_A[index % len(self.files_A)])\n",
        "\n",
        "        if self.unaligned:\n",
        "            image_B = Image.open(self.files_B[random.randint(0, len(self.files_B) - 1)])\n",
        "        else:\n",
        "            image_B = Image.open(self.files_B[index % len(self.files_B)])\n",
        "\n",
        "        # Convert grayscale images to rgb\n",
        "        if image_A.mode != \"RGB\":\n",
        "            image_A = convert_to_rgb(image_A)\n",
        "        if image_B.mode != \"RGB\":\n",
        "            image_B = convert_to_rgb(image_B)\n",
        "\n",
        "        item_A = self.transform(image_A)\n",
        "        item_B = self.transform(image_B)\n",
        "\n",
        "        # Finally return a dict\n",
        "        return {\"A\": item_A, \"B\": item_B}\n",
        "\n",
        "    def __len__(self):\n",
        "        return max(len(self.files_A), len(self.files_B))"
      ]
    },
    {
      "cell_type": "code",
      "execution_count": null,
      "metadata": {
        "cellView": "form",
        "execution": {
          "iopub.execute_input": "2022-03-16T13:53:34.020893Z",
          "iopub.status.busy": "2022-03-16T13:53:34.020275Z",
          "iopub.status.idle": "2022-03-16T13:53:34.033695Z",
          "shell.execute_reply": "2022-03-16T13:53:34.033041Z",
          "shell.execute_reply.started": "2022-03-16T13:53:34.020855Z"
        },
        "id": "VWcpYFFnWAbv",
        "trusted": true
      },
      "outputs": [],
      "source": [
        "# Methods for Image Visualization\n",
        "\n",
        "def show_img(img,size=10):\n",
        "  img = img / 2 + 0.5\n",
        "  npimg = img.numpy()\n",
        "  plt.figure(figsize=(size, size))\n",
        "  plt.imshow(np.transpose(npimg, (1, 2, 0)))\n",
        "  plt.show()\n",
        "\n",
        "def to_img(x):\n",
        "    x = x.view(x.size(0)*2, hp.channels, hp.img_size, hp.img_size)\n",
        "    return x\n",
        "\n",
        "import matplotlib.image as mpimg\n",
        "\n",
        "def plot_output(path, x, y):\n",
        "    img = mpimg.imread(path)\n",
        "    plt.figure(figsize=(x,y))\n",
        "    plt.imshow(img)\n",
        "    plt.show()"
      ]
    },
    {
      "cell_type": "markdown",
      "metadata": {
        "id": "MVoxxG01hOx7"
      },
      "source": [
        "## Get Train and Validation Dataloader"
      ]
    },
    {
      "cell_type": "code",
      "execution_count": null,
      "metadata": {
        "execution": {
          "iopub.execute_input": "2022-03-16T13:53:34.035537Z",
          "iopub.status.busy": "2022-03-16T13:53:34.035062Z",
          "iopub.status.idle": "2022-03-16T13:53:34.071627Z",
          "shell.execute_reply": "2022-03-16T13:53:34.070991Z",
          "shell.execute_reply.started": "2022-03-16T13:53:34.035503Z"
        },
        "id": "pR5LjEFQARFm",
        "trusted": true
      },
      "outputs": [],
      "source": [
        "\n",
        "transforms_ = [\n",
        "    transforms.Resize((hp.img_size, hp.img_size), Image.BICUBIC),\n",
        "    transforms.ToTensor(),\n",
        "    transforms.Normalize((0.5, 0.5, 0.5), (0.5, 0.5, 0.5)),\n",
        "]\n",
        "\n",
        "train_dataloader = DataLoader(\n",
        "    ImageDataset(root_path, mode=hp.dataset_train_mode, transforms_=transforms_),\n",
        "    batch_size=hp.batch_size,\n",
        "    shuffle=True,\n",
        "    num_workers=1,\n",
        ")\n",
        "val_dataloader = DataLoader(\n",
        "    ImageDataset(root_path, mode=hp.dataset_test_mode, transforms_=transforms_),\n",
        "    batch_size=16,\n",
        "    shuffle=True,\n",
        "    num_workers=1,\n",
        ")"
      ]
    },
    {
      "cell_type": "markdown",
      "metadata": {
        "id": "8Uttx-WLhOx8"
      },
      "source": [
        "## Visualize some sample images"
      ]
    },
    {
      "cell_type": "code",
      "execution_count": null,
      "metadata": {
        "colab": {
          "base_uri": "https://localhost:8080/",
          "height": 525
        },
        "execution": {
          "iopub.execute_input": "2022-03-16T13:53:34.075907Z",
          "iopub.status.busy": "2022-03-16T13:53:34.073619Z",
          "iopub.status.idle": "2022-03-16T13:53:35.132905Z",
          "shell.execute_reply": "2022-03-16T13:53:35.131542Z",
          "shell.execute_reply.started": "2022-03-16T13:53:34.075868Z"
        },
        "id": "HbxCwP0zXyBQ",
        "outputId": "f9c40892-c2bc-4713-a0de-98296df81f50",
        "trusted": true
      },
      "outputs": [
        {
          "output_type": "display_data",
          "data": {
            "text/plain": [
              "<Figure size 200x200 with 1 Axes>"
            ],
            "image/png": "[encoded data removed]"
          },
          "metadata": {}
        },
        {
          "output_type": "display_data",
          "data": {
            "text/plain": [
              "<Figure size 200x200 with 1 Axes>"
            ],
            "image/png": "[encoded data removed]"
          },
          "metadata": {}
        },
        {
          "output_type": "display_data",
          "data": {
            "text/plain": [
              "<Figure size 200x200 with 1 Axes>"
            ],
            "image/png": "[encoded data removed]"
          },
          "metadata": {}
        },
        {
          "output_type": "display_data",
          "data": {
            "text/plain": [
              "<Figure size 200x200 with 1 Axes>"
            ],
            "image/png": "[encoded data removed]"
          },
          "metadata": {}
        }
      ],
      "source": [
        "\n",
        "pic_size = 2\n",
        "\n",
        "dataiter = iter(train_dataloader)\n",
        "images = next(dataiter)\n",
        "\n",
        "for i in range(len(images[\"A\"])):\n",
        "  show_img(make_grid([images[\"A\"][i],images[\"B\"][i]]), size=pic_size)"
      ]
    },
    {
      "cell_type": "markdown",
      "metadata": {
        "id": "Wrk-ZgCtpu4K"
      },
      "source": [
        "## Replay Buffer\n"
      ]
    },
    {
      "cell_type": "code",
      "execution_count": null,
      "metadata": {
        "cellView": "form",
        "execution": {
          "iopub.execute_input": "2022-03-16T13:53:35.142822Z",
          "iopub.status.busy": "2022-03-16T13:53:35.140057Z",
          "iopub.status.idle": "2022-03-16T13:53:35.156894Z",
          "shell.execute_reply": "2022-03-16T13:53:35.155795Z",
          "shell.execute_reply.started": "2022-03-16T13:53:35.142749Z"
        },
        "id": "OXqLUivNDrNa",
        "trusted": true
      },
      "outputs": [],
      "source": [
        "# ReplayBuffer\n",
        "class ReplayBuffer:\n",
        "\n",
        "    def __init__(self, max_size=50):\n",
        "        assert max_size > 0, \"Empty buffer.\"\n",
        "        self.max_size = max_size\n",
        "        self.data = []\n",
        "\n",
        "    def push_and_pop(self, data):\n",
        "        to_return = []\n",
        "        for element in data.data:\n",
        "            element = torch.unsqueeze(element, 0)\n",
        "            if len(self.data) < self.max_size:\n",
        "                self.data.append(element)\n",
        "                to_return.append(element)\n",
        "            else:\n",
        "                # Returns newly added image with a probability of 0.5.\n",
        "                if random.uniform(0, 1) > 0.5:\n",
        "                    i = random.randint(0, self.max_size - 1)\n",
        "                    to_return.append(self.data[i].clone())\n",
        "                    self.data[\n",
        "                        i\n",
        "                    ] = element  # replaces the older image with the newly generated image.\n",
        "                else:\n",
        "                    # Otherwise, it sends an older generated image and\n",
        "                    to_return.append(element)\n",
        "        return Variable(torch.cat(to_return))\n",
        "\n",
        "\n"
      ]
    },
    {
      "cell_type": "markdown",
      "metadata": {
        "id": "Q2a20DcIFhoY"
      },
      "source": [
        "## Learning Rate scheduling with `lr_lambda`"
      ]
    },
    {
      "cell_type": "code",
      "execution_count": null,
      "metadata": {
        "id": "NhzmQW_JFih3"
      },
      "outputs": [],
      "source": [
        "\n",
        "class LambdaLR:\n",
        "    def __init__(self, n_epochs, offset, decay_start_epoch):\n",
        "        assert (n_epochs - decay_start_epoch) > 0, \"Decay must start before the training session ends!\"\n",
        "        self.n_epochs = n_epochs\n",
        "        self.offset = offset\n",
        "        self.decay_start_epoch = decay_start_epoch\n",
        "\n",
        "    def step(self, epoch):\n",
        "        return 1.0 - max(0, epoch + self.offset - self.decay_start_epoch) / (self.n_epochs - self.decay_start_epoch)"
      ]
    },
    {
      "cell_type": "markdown",
      "metadata": {
        "id": "Y_ThxhkitKp3"
      },
      "source": [
        "### Initialize convolution layer weights to N(0,0.02)"
      ]
    },
    {
      "cell_type": "code",
      "execution_count": null,
      "metadata": {
        "id": "SAzjwwMYuTXw"
      },
      "outputs": [],
      "source": [
        "def initialize_conv_weights_normal(m):\n",
        "    classname = m.__class__.__name__\n",
        "    if classname.find(\"Conv\") != -1:\n",
        "        torch.nn.init.normal_(m.weight.data, 0.0, 0.02)\n",
        "        if hasattr(m, \"bias\") and m.bias is not None:\n",
        "            torch.nn.init.constant_(m.bias.data, 0.0)\n",
        "    elif classname.find(\"BatchNorm2d\") != -1:\n",
        "        torch.nn.init.normal_(m.weight.data, 1.0, 0.02)\n",
        "        torch.nn.init.constant_(m.bias.data, 0.0)"
      ]
    },
    {
      "cell_type": "markdown",
      "metadata": {
        "id": "jE34s6vbuU_B"
      },
      "source": [
        "# GENERATOR & DISCRIMINATOR\n"
      ]
    },
    {
      "cell_type": "code",
      "execution_count": null,
      "metadata": {
        "id": "4UrP6ISWJ4Kc"
      },
      "outputs": [],
      "source": [
        "\n",
        "class ResidualBlock(nn.Module):\n",
        "    def __init__(self, in_channel):\n",
        "        super(ResidualBlock, self).__init__()\n",
        "\n",
        "        self.block = nn.Sequential(\n",
        "            nn.ReflectionPad2d(1), # Reflection padding is used because it gives better image quality at edges.\n",
        "            nn.Conv2d(in_channel, in_channel, 3), # Paper says - same number of filters on both layer.\n",
        "            nn.InstanceNorm2d(in_channel),\n",
        "            nn.ReLU(inplace=True),\n",
        "            nn.ReflectionPad2d(1),\n",
        "            nn.Conv2d(in_channel, in_channel, 3),\n",
        "            nn.InstanceNorm2d(in_channel),\n",
        "        )\n",
        "\n",
        "    def forward(self, x):\n",
        "        return x + self.block(x)"
      ]
    },
    {
      "cell_type": "markdown",
      "metadata": {
        "id": "47ZJlXR_J4Kc"
      },
      "source": [
        "\n",
        "---\n",
        "\n",
        "### Parameters in torch.nn.conv2d()"
      ]
    },
    {
      "cell_type": "code",
      "execution_count": null,
      "metadata": {
        "execution": {
          "iopub.execute_input": "2022-03-16T13:53:35.158755Z",
          "iopub.status.busy": "2022-03-16T13:53:35.158453Z",
          "iopub.status.idle": "2022-03-16T13:53:35.183204Z",
          "shell.execute_reply": "2022-03-16T13:53:35.181073Z",
          "shell.execute_reply.started": "2022-03-16T13:53:35.158719Z"
        },
        "id": "EEb5TdBmIy7l",
        "trusted": true
      },
      "outputs": [],
      "source": [
        "\n",
        "\n",
        "\n",
        "\"\"\" As per Paper -- Generator with 9 residual blocks consists of:\n",
        "c7s1-64,d128,d256,R256,R256,R256, R256,R256,R256,R256,R256,R256,\n",
        "u128, u64,c7s1-3\n",
        " \"\"\"\n",
        "\n",
        "class GeneratorResNet(nn.Module):\n",
        "    def __init__(self, input_shape, num_residual_blocks):\n",
        "        super(GeneratorResNet, self).__init__()\n",
        "\n",
        "        channels = input_shape[0]\n",
        "\n",
        "        # Initial convolution block\n",
        "        out_channels = 64\n",
        "\n",
        "        # throughout the 3 blocks of Residual -> Downsampling -> Upsampling\n",
        "        # First c7s1-64\n",
        "        model = [\n",
        "            nn.ReflectionPad2d(channels),\n",
        "            nn.Conv2d(channels, out_channels, 7),\n",
        "            nn.InstanceNorm2d(out_channels),\n",
        "            nn.ReLU(inplace=True),\n",
        "        ]\n",
        "        in_channels = out_channels\n",
        "\n",
        "        # Downsampling\n",
        "        # d128 => d256\n",
        "        for _ in range(2):\n",
        "            out_channels *= 2\n",
        "            model += [\n",
        "                nn.Conv2d(in_channels, out_channels, 3, stride=2, padding=1),\n",
        "                nn.InstanceNorm2d(out_channels),\n",
        "                nn.ReLU(inplace=True),\n",
        "            ]\n",
        "            in_channels = out_channels\n",
        "\n",
        "        \"\"\" Residual blocks - Per Paper\n",
        "        R256,R256,R256,R256,R256,R256,R256,R256,R256\n",
        "        \"\"\"\n",
        "        for _ in range(num_residual_blocks):\n",
        "            model += [ResidualBlock(out_channels)]\n",
        "\n",
        "        # Upsampling\n",
        "        # u128 => u64\n",
        "        for _ in range(2):\n",
        "            out_channels //= 2\n",
        "            model += [\n",
        "                nn.Upsample(scale_factor=2),\n",
        "                nn.Conv2d(in_channels, out_channels, 3, stride=1, padding=1),\n",
        "                nn.InstanceNorm2d(out_channels),\n",
        "                nn.ReLU(inplace=True),\n",
        "            ]\n",
        "            in_channels = out_channels\n",
        "\n",
        "        # Output layer\n",
        "        model += [\n",
        "            nn.ReflectionPad2d(channels),\n",
        "            nn.Conv2d(out_channels, channels, 7),\n",
        "            nn.Tanh(),\n",
        "        ]\n",
        "\n",
        "        self.model = nn.Sequential(*model)\n",
        "\n",
        "    def forward(self, x):\n",
        "        return self.model(x)"
      ]
    },
    {
      "cell_type": "markdown",
      "metadata": {
        "id": "t1wsIZPVJ4Ke"
      },
      "source": [
        "## Discriminator"
      ]
    },
    {
      "cell_type": "code",
      "execution_count": null,
      "metadata": {
        "id": "GttrM1PTJ4Kf"
      },
      "outputs": [],
      "source": [
        "\n",
        "class Discriminator(nn.Module):\n",
        "    def __init__(self, input_shape):\n",
        "        super(Discriminator, self).__init__()\n",
        "\n",
        "        channels, height, width = input_shape\n",
        "\n",
        "        # Calculate output shape of image discriminator (PatchGAN)\n",
        "        self.output_shape = (1, height // 2 ** 4, width // 2 ** 4)\n",
        "\n",
        "        def discriminator_block(in_channels, out_channels, normalize=True):\n",
        "            \"\"\"Returns downsampling layers of each discriminator block\"\"\"\n",
        "            layers = [nn.Conv2d(in_channels, out_channels, kernel_size=4, stride=2, padding=1)]\n",
        "            if normalize:\n",
        "                layers.append(nn.InstanceNorm2d(out_channels))\n",
        "            layers.append(nn.LeakyReLU(0.2, inplace=True))\n",
        "            return layers\n",
        "\n",
        "        # C64 -> C128 -> C256 -> C512\n",
        "        self.model = nn.Sequential(\n",
        "            *discriminator_block(channels, out_channels=64, normalize=False),\n",
        "            *discriminator_block(64, out_channels=128),\n",
        "            *discriminator_block(128, out_channels=256),\n",
        "            *discriminator_block(256, out_channels=512),\n",
        "            nn.ZeroPad2d((1, 0, 1, 0)),\n",
        "            nn.Conv2d(in_channels=512, out_channels=1, kernel_size=4, padding=1)\n",
        "        )\n",
        "        # With nn.ZeroPad2d((1, 0, 1, 0)) I am Zero padding\n",
        "        # on top and left to keep the output height and width same with the 4×4 kernel\n",
        "\n",
        "    def forward(self, img):\n",
        "        return self.model(img)"
      ]
    },
    {
      "cell_type": "markdown",
      "metadata": {
        "id": "CdhehrXXJ4Kf"
      },
      "source": [
        "### Hyperparameters\n"
      ]
    },
    {
      "cell_type": "markdown",
      "source": [
        "##Backward Check..Del later"
      ],
      "metadata": {
        "id": "tePtu1q8K7XW"
      }
    },
    {
      "cell_type": "code",
      "execution_count": null,
      "metadata": {
        "colab": {
          "base_uri": "https://localhost:8080/",
          "height": 104
        },
        "id": "4WmGvq8BJ4Kg",
        "outputId": "8b8a22b7-9472-4bac-c3da-3f525811f15f"
      },
      "outputs": [
        {
          "output_type": "stream",
          "name": "stdout",
          "text": [
            "fourth_layer  7\n",
            "third_layer_input_size  16\n",
            "second_layer_input_size  34\n",
            "first_layer_input_size  70\n"
          ]
        },
        {
          "output_type": "execute_result",
          "data": {
            "text/plain": [
              "'Receptive field: 70'"
            ],
            "application/vnd.google.colaboratory.intrinsic+json": {
              "type": "string"
            }
          },
          "metadata": {},
          "execution_count": 15
        }
      ],
      "source": [
        "def get_input_size(output_size, filter_size, stride):\n",
        "    return (output_size - 1) * stride + filter_size\n",
        "\n",
        "# Now invoke above method to calculate the size of various layers in\n",
        "# Discriminator Network\n",
        "\n",
        "last_layer = get_input_size(output_size=1, filter_size=4, stride=1)\n",
        "\n",
        "fourth_layer_input_size = get_input_size(output_size=last_layer, filter_size=4, stride=1)\n",
        "print(\"fourth_layer \", fourth_layer_input_size)\n",
        "\n",
        "\"\"\"Receptive field: 7\"\"\"\n",
        "third_layer_input_size = get_input_size(output_size=fourth_layer_input_size, filter_size=4, stride=2)\n",
        "print(\"third_layer_input_size \", third_layer_input_size)\n",
        "\n",
        "\"\"\"Receptive field: 16\"\"\"\n",
        "second_layer_input_size = get_input_size(output_size=third_layer_input_size, filter_size=4, stride=2)\n",
        "print('second_layer_input_size ', second_layer_input_size)\n",
        "\n",
        "\"\"\"Receptive field: 34\"\"\"\n",
        "first_layer_input_size = get_input_size(output_size=second_layer_input_size, filter_size=4, stride=2)\n",
        "print('first_layer_input_size ', first_layer_input_size)\n",
        "\n",
        "\"\"\"Receptive field: 70\"\"\""
      ]
    },
    {
      "cell_type": "markdown",
      "source": [
        "###Backward Over -- Fin --"
      ],
      "metadata": {
        "id": "HgOciR1lLANy"
      }
    },
    {
      "cell_type": "code",
      "execution_count": null,
      "metadata": {
        "colab": {
          "base_uri": "https://localhost:8080/"
        },
        "execution": {
          "iopub.execute_input": "2022-03-16T13:53:35.188423Z",
          "iopub.status.busy": "2022-03-16T13:53:35.188143Z",
          "iopub.status.idle": "2022-03-16T13:53:38.725288Z",
          "shell.execute_reply": "2022-03-16T13:53:38.724552Z",
          "shell.execute_reply.started": "2022-03-16T13:53:35.188396Z"
        },
        "id": "YxFuX3PCKOVW",
        "outputId": "799d4361-3a35-4a6c-db0c-84301a25b02b",
        "trusted": true
      },
      "outputs": [
        {
          "output_type": "stream",
          "name": "stdout",
          "text": [
            "Using CUDA\n"
          ]
        }
      ],
      "source": [
        "# SETUP, LOSS, INITIALIZE MODELS and BUFFERS\n",
        "\n",
        "cuda = True if torch.cuda.is_available() else False\n",
        "print(\"Using CUDA\" if cuda else \"Not using CUDA\")\n",
        "\n",
        "# Loss functions\n",
        "# Creating criterion object that will measure the error between the prediction and the target.\n",
        "criterion_GAN = torch.nn.MSELoss()\n",
        "criterion_cycle = torch.nn.L1Loss()\n",
        "criterion_identity = torch.nn.L1Loss()\n",
        "\n",
        "input_shape = (hp.channels, hp.img_size, hp.img_size)\n",
        "\n",
        "# Initialize generator and discriminator\n",
        "Gen_AB = GeneratorResNet(input_shape, hp.num_residual_blocks)\n",
        "Gen_BA = GeneratorResNet(input_shape, hp.num_residual_blocks)\n",
        "Disc_A = Discriminator(input_shape)\n",
        "Disc_B = Discriminator(input_shape)\n",
        "\n",
        "if cuda:\n",
        "    Gen_AB = Gen_AB.cuda()\n",
        "    Gen_BA = Gen_BA.cuda()\n",
        "    Disc_A = Disc_A.cuda()\n",
        "    Disc_B = Disc_B.cuda()\n",
        "    criterion_GAN.cuda()\n",
        "    criterion_cycle.cuda()\n",
        "    criterion_identity.cuda()\n",
        "\n",
        "# Initialize weights\n",
        "Gen_AB.apply(initialize_conv_weights_normal)\n",
        "Gen_BA.apply(initialize_conv_weights_normal)\n",
        "Disc_A.apply(initialize_conv_weights_normal)\n",
        "Disc_B.apply(initialize_conv_weights_normal)\n",
        "\n",
        "# Buffers of previously generated samples\n",
        "fake_A_buffer = ReplayBuffer()\n",
        "fake_B_buffer = ReplayBuffer()"
      ]
    },
    {
      "cell_type": "code",
      "execution_count": null,
      "metadata": {
        "execution": {
          "iopub.execute_input": "2022-03-16T13:53:38.728564Z",
          "iopub.status.busy": "2022-03-16T13:53:38.728362Z",
          "iopub.status.idle": "2022-03-16T13:53:38.738556Z",
          "shell.execute_reply": "2022-03-16T13:53:38.737800Z",
          "shell.execute_reply.started": "2022-03-16T13:53:38.728539Z"
        },
        "id": "TpEIFH7BIRwA",
        "trusted": true
      },
      "outputs": [],
      "source": [
        "# SAMPLING IMAGES\n",
        "def save_img_samples(batches_done):\n",
        "    \"\"\"Saves a generated sample from the test set\"\"\"\n",
        "    print('batches_done ', batches_done)\n",
        "    imgs = next(iter(val_dataloader))\n",
        "    Gen_AB.eval()\n",
        "    Gen_BA.eval()\n",
        "    real_A = Variable(imgs[\"A\"].type(Tensor))\n",
        "    fake_B = Gen_AB(real_A)\n",
        "    real_B = Variable(imgs[\"B\"].type(Tensor))\n",
        "    fake_A = Gen_BA(real_B)\n",
        "    # Arange images along x-axis\n",
        "    real_A = make_grid(real_A, nrow=16, normalize=True)\n",
        "    real_B = make_grid(real_B, nrow=16, normalize=True)\n",
        "    fake_A = make_grid(fake_A, nrow=16, normalize=True)\n",
        "    fake_B = make_grid(fake_B, nrow=16, normalize=True)\n",
        "    # Arange images along y-axis\n",
        "    image_grid = torch.cat((real_A, fake_B, real_B, fake_A), 1)\n",
        "    path =  root_path + \"/%s.png\" % (batches_done)    # Path when running in Google Colab\n",
        "    save_image(image_grid, path, normalize=False)\n",
        "    return path"
      ]
    },
    {
      "cell_type": "markdown",
      "metadata": {
        "id": "svfAVDAXJ4Ki"
      },
      "source": [
        "## Optimizers"
      ]
    },
    {
      "cell_type": "code",
      "execution_count": null,
      "metadata": {
        "execution": {
          "iopub.execute_input": "2022-03-16T13:53:38.741555Z",
          "iopub.status.busy": "2022-03-16T13:53:38.741375Z",
          "iopub.status.idle": "2022-03-16T13:53:38.752145Z",
          "shell.execute_reply": "2022-03-16T13:53:38.751478Z",
          "shell.execute_reply.started": "2022-03-16T13:53:38.741534Z"
        },
        "id": "fgRoX2DbHSwk",
        "trusted": true
      },
      "outputs": [],
      "source": [
        "optimizer_G = torch.optim.Adam(\n",
        "    itertools.chain(Gen_AB.parameters(), Gen_BA.parameters()), lr=hp.lr, betas=(hp.b1, hp.b2)\n",
        ")\n",
        "optimizer_Disc_A = torch.optim.Adam(Disc_A.parameters(), lr=hp.lr, betas=(hp.b1, hp.b2))\n",
        "\n",
        "optimizer_Disc_B = torch.optim.Adam(Disc_B.parameters(), lr=hp.lr, betas=(hp.b1, hp.b2))\n",
        "\n",
        "# Learning rate update schedulers\n",
        "lr_scheduler_G = torch.optim.lr_scheduler.LambdaLR(\n",
        "    optimizer_G, lr_lambda=LambdaLR(hp.n_epochs, hp.epoch, hp.decay_start_epoch).step\n",
        ")\n",
        "\n",
        "lr_scheduler_Disc_A = torch.optim.lr_scheduler.LambdaLR(\n",
        "    optimizer_Disc_A, lr_lambda=LambdaLR(hp.n_epochs, hp.epoch, hp.decay_start_epoch).step\n",
        ")\n",
        "\n",
        "lr_scheduler_Disc_B = torch.optim.lr_scheduler.LambdaLR(\n",
        "    optimizer_Disc_B, lr_lambda=LambdaLR(hp.n_epochs, hp.epoch, hp.decay_start_epoch).step\n",
        ")\n",
        "\n",
        "Tensor = torch.cuda.FloatTensor if cuda else torch.Tensor"
      ]
    },
    {
      "cell_type": "code",
      "execution_count": null,
      "metadata": {
        "id": "kqrUEbgJNY7o"
      },
      "outputs": [],
      "source": [
        "def train(\n",
        "    Gen_BA,\n",
        "    Gen_AB,\n",
        "    Disc_A,\n",
        "    Disc_B,\n",
        "    train_dataloader,\n",
        "    n_epochs,\n",
        "    criterion_identity,\n",
        "    criterion_cycle,\n",
        "    lambda_cyc,\n",
        "    criterion_GAN,\n",
        "    optimizer_G,\n",
        "    fake_A_buffer,\n",
        "    fake_B_buffer,\n",
        "    clear_output,\n",
        "    optimizer_Disc_A,\n",
        "    optimizer_Disc_B,\n",
        "    Tensor,\n",
        "    sample_interval,\n",
        "    lambda_id,\n",
        "):\n",
        "    # TRAINING\n",
        "    prev_time = time.time()\n",
        "    for epoch in range(hp.epoch, n_epochs):\n",
        "        for i, batch in enumerate(train_dataloader):\n",
        "\n",
        "            # Set model input\n",
        "            real_A = Variable(batch[\"A\"].type(Tensor))\n",
        "            real_B = Variable(batch[\"B\"].type(Tensor))\n",
        "\n",
        "            # Adversarial ground truths\n",
        "            valid = Variable(\n",
        "                Tensor(np.ones((real_A.size(0), *Disc_A.output_shape))),\n",
        "                requires_grad=False,\n",
        "            )\n",
        "            fake = Variable(\n",
        "                Tensor(np.zeros((real_A.size(0), *Disc_A.output_shape))),\n",
        "                requires_grad=False,\n",
        "            )\n",
        "\n",
        "            #  Train Generators\n",
        "\n",
        "            Gen_AB.train() # Gen_AB(real_A) will take real_A and produce fake_B\n",
        "            Gen_BA.train() # Gen_BA(real_B) will take real_B and produce fake_A\n",
        "\n",
        "            optimizer_G.zero_grad()\n",
        "\n",
        "            # Identity loss\n",
        "            # First pass real_A images to the Genearator, that will generate A-domains images\n",
        "            loss_id_A = criterion_identity(Gen_BA(real_A), real_A)\n",
        "\n",
        "\n",
        "            # Then pass real_B images to the Genearator, that will generate B-domains images\n",
        "            loss_id_B = criterion_identity(Gen_AB(real_B), real_B)\n",
        "\n",
        "            loss_identity = (loss_id_A + loss_id_B) / 2\n",
        "\n",
        "            # GAN losses for GAN_AB\n",
        "            fake_B = Gen_AB(real_A)\n",
        "            loss_GAN_AB = criterion_GAN(Disc_B(fake_B), valid)\n",
        "\n",
        "            # GAN losses for GAN_BA\n",
        "            fake_A = Gen_BA(real_B)\n",
        "            loss_GAN_BA = criterion_GAN(Disc_A(fake_A), valid)\n",
        "\n",
        "            loss_GAN = (loss_GAN_AB + loss_GAN_BA) / 2\n",
        "\n",
        "            # Cycle Consistency losses\n",
        "            reconstructed_A = Gen_BA(fake_B)\n",
        "\n",
        "            loss_cycle_A = criterion_cycle(reconstructed_A, real_A)\n",
        "\n",
        "            reconstructed_B = Gen_AB(fake_A)\n",
        "\n",
        "            loss_cycle_B = criterion_cycle(reconstructed_B, real_B)\n",
        "\n",
        "            loss_cycle = (loss_cycle_A + loss_cycle_B) / 2\n",
        "\n",
        "\n",
        "            loss_G = loss_GAN + lambda_cyc * loss_cycle + lambda_id * loss_identity\n",
        "\n",
        "            loss_G.backward()\n",
        "\n",
        "            optimizer_G.step()\n",
        "\n",
        "            #  Train Discriminator A\n",
        "\n",
        "            optimizer_Disc_A.zero_grad()\n",
        "\n",
        "            # Real loss\n",
        "            loss_real = criterion_GAN(Disc_A(real_A), valid)\n",
        "            # Fake loss (on batch of previously generated samples)\n",
        "            fake_A_ = fake_A_buffer.push_and_pop(fake_A)\n",
        "            loss_fake = criterion_GAN(Disc_A(fake_A_.detach()), fake)\n",
        "\n",
        "\n",
        "            loss_Disc_A = (loss_real + loss_fake) / 2\n",
        "\n",
        "            loss_Disc_A.backward()\n",
        "\n",
        "            optimizer_Disc_A.step()\n",
        "\n",
        "\n",
        "            #  Train Discriminator B\n",
        "\n",
        "            optimizer_Disc_B.zero_grad()\n",
        "\n",
        "            # Real loss\n",
        "            loss_real = criterion_GAN(Disc_B(real_B), valid)\n",
        "            # Fake loss (on batch of previously generated samples)\n",
        "            fake_B_ = fake_B_buffer.push_and_pop(fake_B)\n",
        "            loss_fake = criterion_GAN(Disc_B(fake_B_.detach()), fake)\n",
        "\n",
        "\n",
        "            loss_Disc_B = (loss_real + loss_fake) / 2\n",
        "\n",
        "\n",
        "            loss_Disc_B.backward()\n",
        "\n",
        "\n",
        "            optimizer_Disc_B.step()\n",
        "\n",
        "            loss_D = (loss_Disc_A + loss_Disc_B) / 2\n",
        "\n",
        "            #  Log Progress\n",
        "\n",
        "            # Determine approximate time left\n",
        "            batches_done = epoch * len(train_dataloader) + i\n",
        "            batches_left = n_epochs * len(train_dataloader) - batches_done\n",
        "            time_left = datetime.timedelta(\n",
        "                seconds=batches_left * (time.time() - prev_time)\n",
        "            )\n",
        "            prev_time = time.time()\n",
        "\n",
        "            print(\n",
        "                \"\\r[Epoch %d/%d] [Batch %d/%d] [D loss: %f] [G loss: %f, adv: %f, cycle: %f, identity: %f] ETA: %s\"\n",
        "                % (\n",
        "                    epoch,\n",
        "                    n_epochs,\n",
        "                    i,\n",
        "                    len(train_dataloader),\n",
        "                    loss_D.item(),\n",
        "                    loss_G.item(),\n",
        "                    loss_GAN.item(),\n",
        "                    loss_cycle.item(),\n",
        "                    loss_identity.item(),\n",
        "                    time_left,\n",
        "                )\n",
        "            )\n",
        "\n",
        "            # If at sample interval save image\n",
        "            if batches_done % sample_interval == 0:\n",
        "                clear_output()\n",
        "                plot_output(save_img_samples(batches_done), 30, 40)\n"
      ]
    },
    {
      "cell_type": "code",
      "execution_count": null,
      "metadata": {
        "execution": {
          "iopub.execute_input": "2022-03-16T13:53:38.755310Z",
          "iopub.status.busy": "2022-03-16T13:53:38.755057Z",
          "iopub.status.idle": "2022-03-16T14:25:48.463210Z",
          "shell.execute_reply": "2022-03-16T14:25:48.461986Z",
          "shell.execute_reply.started": "2022-03-16T13:53:38.755279Z"
        },
        "id": "GiWH4SwoI7jA",
        "trusted": true,
        "colab": {
          "base_uri": "https://localhost:8080/",
          "height": 210
        },
        "outputId": "83070c27-a5b8-4eb4-d06d-d3ff2b53a38f"
      },
      "outputs": [
        {
          "output_type": "error",
          "ename": "NameError",
          "evalue": "name 'train' is not defined",
          "traceback": [
            "\u001b[0;31m---------------------------------------------------------------------------\u001b[0m",
            "\u001b[0;31mNameError\u001b[0m                                 Traceback (most recent call last)",
            "\u001b[0;32m<ipython-input-1-b59287b58e89>\u001b[0m in \u001b[0;36m<cell line: 1>\u001b[0;34m()\u001b[0m\n\u001b[0;32m----> 1\u001b[0;31m train(\n\u001b[0m\u001b[1;32m      2\u001b[0m     \u001b[0mGen_BA\u001b[0m \u001b[0;34m=\u001b[0m \u001b[0mGen_BA\u001b[0m\u001b[0;34m,\u001b[0m\u001b[0;34m\u001b[0m\u001b[0;34m\u001b[0m\u001b[0m\n\u001b[1;32m      3\u001b[0m     \u001b[0mGen_AB\u001b[0m \u001b[0;34m=\u001b[0m \u001b[0mGen_AB\u001b[0m\u001b[0;34m,\u001b[0m\u001b[0;34m\u001b[0m\u001b[0;34m\u001b[0m\u001b[0m\n\u001b[1;32m      4\u001b[0m     \u001b[0mDisc_A\u001b[0m \u001b[0;34m=\u001b[0m \u001b[0mDisc_A\u001b[0m\u001b[0;34m,\u001b[0m\u001b[0;34m\u001b[0m\u001b[0;34m\u001b[0m\u001b[0m\n\u001b[1;32m      5\u001b[0m     \u001b[0mDisc_B\u001b[0m \u001b[0;34m=\u001b[0m \u001b[0mDisc_B\u001b[0m\u001b[0;34m,\u001b[0m\u001b[0;34m\u001b[0m\u001b[0;34m\u001b[0m\u001b[0m\n",
            "\u001b[0;31mNameError\u001b[0m: name 'train' is not defined"
          ]
        }
      ],
      "source": [
        "train(\n",
        "    Gen_BA = Gen_BA,\n",
        "    Gen_AB = Gen_AB,\n",
        "    Disc_A = Disc_A,\n",
        "    Disc_B = Disc_B,\n",
        "    train_dataloader = train_dataloader,\n",
        "    n_epochs = hp.n_epochs,\n",
        "    criterion_identity = criterion_identity,\n",
        "    criterion_cycle = criterion_cycle,\n",
        "    lambda_cyc = hp.lambda_cyc,\n",
        "    criterion_GAN = criterion_GAN,\n",
        "    optimizer_G = optimizer_G,\n",
        "    fake_A_buffer = fake_A_buffer,\n",
        "    fake_B_buffer = fake_B_buffer,\n",
        "    clear_output = clear_output,\n",
        "    optimizer_Disc_A = optimizer_Disc_A,\n",
        "    optimizer_Disc_B = optimizer_Disc_B,\n",
        "    Tensor = Tensor,\n",
        "    sample_interval = hp.sample_interval,\n",
        "    lambda_id = hp.lambda_id,\n",
        ")"
      ]
    }
  ],
  "metadata": {
    "accelerator": "GPU",
    "colab": {
      "provenance": [],
      "gpuType": "T4"
    },
    "kernelspec": {
      "display_name": "Python 3",
      "name": "python3"
    },
    "language_info": {
      "codemirror_mode": {
        "name": "ipython",
        "version": 3
      },
      "file_extension": ".py",
      "mimetype": "text/x-python",
      "name": "python",
      "nbconvert_exporter": "python",
      "pygments_lexer": "ipython3",
      "version": "3.9.11"
    }
  },
  "nbformat": 4,
  "nbformat_minor": 0
}